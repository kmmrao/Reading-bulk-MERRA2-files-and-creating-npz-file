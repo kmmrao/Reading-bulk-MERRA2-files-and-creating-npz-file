{
 "cells": [
  {
   "cell_type": "code",
   "execution_count": null,
   "id": "cb85cced",
   "metadata": {},
   "outputs": [],
   "source": [
    "#from mpl_toolkits.basemap import Basemap\n",
    "import numpy as np\n",
    "import pandas as pd\n",
    "import matplotlib.pyplot as plt\n",
    "from netCDF4 import Dataset\n",
    "import matplotlib.patheffects as path_effects\n",
    "import sys as s\n",
    "import os \n",
    "from cartopy import config\n",
    "import cartopy.crs as ccrs\n",
    "import matplotlib.ticker as mticker\n",
    "from cartopy.mpl.gridliner import LONGITUDE_FORMATTER, LATITUDE_FORMATTER"
   ]
  },
  {
   "cell_type": "code",
   "execution_count": null,
   "id": "927ea8ac",
   "metadata": {},
   "outputs": [],
   "source": [
    "dd =pd.date_range(start='1/1/2020', end='31/12/2020')"
   ]
  },
  {
   "cell_type": "code",
   "execution_count": null,
   "id": "5cf5790e",
   "metadata": {},
   "outputs": [],
   "source": [
    "dd_array = np.array(dd,dtype= 'str')"
   ]
  },
  {
   "cell_type": "code",
   "execution_count": null,
   "id": "12c0051a",
   "metadata": {},
   "outputs": [],
   "source": [
    "datessss = []\n",
    "for i in np.arange(0,len(dd_array)):\n",
    "    year  = dd_array[i][0:4]\n",
    "    month = dd_array[i][5:7]\n",
    "    day   = dd_array[i][8:10]\n",
    "    one = year+month+day\n",
    "    datessss.append(one)\n",
    "dates = np.array(datessss,dtype='str')"
   ]
  },
  {
   "cell_type": "code",
   "execution_count": null,
   "id": "ec728fcc",
   "metadata": {},
   "outputs": [],
   "source": [
    "dates.shape"
   ]
  },
  {
   "cell_type": "code",
   "execution_count": null,
   "id": "000f2fcf",
   "metadata": {},
   "outputs": [],
   "source": [
    "DUSMASS25_con = []\n",
    "OCSMASS_con   = []\n",
    "BCSMASS_con   = []\n",
    "SSSMASS25_con = []\n",
    "SO4SMASS_con = []\n",
    "for i in dates:\n",
    "    try:\n",
    "        data = Dataset(r'J:\\MERRA-2 Aerosol Diagnostics 1-Hourly\\2020\\MERRA2_400.tavg1_2d_aer_Nx.'+i+'.nc4')\n",
    "    except:\n",
    "        data =Dataset(r'J:\\MERRA-2 Aerosol Diagnostics 1-Hourly\\2020\\MERRA2_401.tavg1_2d_aer_Nx.'+i+'.nc4')\n",
    "    dstsurmas  = np.array(data['DUSMASS25'][:,:,:])\n",
    "    orgcsurmas = np.array(data['OCSMASS'][:,:,:])\n",
    "    bcsurmas   = np.array(data['BCSMASS'][:,:,:])\n",
    "    sssurmas   = np.array(data['SSSMASS25'][:,:,:])\n",
    "    so4surmas  = np.array(data['SO4SMASS'][:,:,:])\n",
    "    \n",
    "    dstsurmas_ave  =np.mean(dstsurmas, axis = 0)\n",
    "    orgcsurmas_ave =np.mean(orgcsurmas, axis = 0)\n",
    "    bcsurmas_ave   =np.mean(bcsurmas, axis = 0)\n",
    "    sssurmas_ave   =np.mean(sssurmas, axis = 0)\n",
    "    so4surmas_ave  =np.mean(so4surmas, axis = 0)\n",
    "    \n",
    "#     so4surf_ave = np.mean(so4surf, axis = 0)\n",
    "    DUSMASS25_con.append(dstsurmas_ave)\n",
    "    OCSMASS_con.append(orgcsurmas_ave)\n",
    "    BCSMASS_con.append(bcsurmas_ave)\n",
    "    SSSMASS25_con.append(sssurmas_ave)\n",
    "    SO4SMASS_con.append(so4surmas_ave)\n",
    "\n",
    "DUSMASS25 = np.array(DUSMASS25_con)\n",
    "OCSMASS   = np.array(OCSMASS_con)\n",
    "BCSMASS   = np.array(BCSMASS_con)\n",
    "SSSMASS25 = np.array(SSSMASS25_con)\n",
    "SO4SMASS  = np.array(SO4SMASS_con)\n",
    "lat = np.array(data['lat'])\n",
    "lon = np.array(data['lon'])"
   ]
  },
  {
   "cell_type": "code",
   "execution_count": null,
   "id": "80a7206c",
   "metadata": {},
   "outputs": [],
   "source": [
    "# DUSMASS25 + OCSMASS+ BCSMASS + SSSMASS25 + SO4SMASS* (132.14/96.06)\n",
    "DUSMASS25_abbreviation = 'Dust Surface Mass Concentration - PM 2.5'\n",
    "OCSMASS_abbreviation = 'Organic Carbon Surface Mass Concentration __ENSEMBLE__'\n",
    "BCSMASS_abbreviation = 'Black Carbon Surface Mass Concentration'\n",
    "SSSMASS25_abbreviation = 'Sea Salt Surface Mass Concentration - PM 2.5'\n",
    "SO4SMASS_abbreviation = 'SO4 Surface Mass Concentration __ENSEMBLE__'\n",
    "PM25_formula = 'PM2.5 = DUSMASS25 + OCSMASS+ BCSMASS + SSSMASS25 + SO4SMASS* (132.14/96.06)'\n",
    "\n",
    "np.savez('MERRA2_2020_PM25_Variables', DUSMASS25=DUSMASS25,OCSMASS=OCSMASS,BCSMASS=BCSMASS,SSSMASS25=SSSMASS25,\n",
    "         SO4SMASS=SO4SMASS,lat=lat,lon=lon,dates=dates,DUSMASS25_abbreviation=DUSMASS25_abbreviation,\n",
    "        OCSMASS_abbreviation=OCSMASS_abbreviation,BCSMASS_abbreviation=BCSMASS_abbreviation,\n",
    "         SSSMASS25_abbreviation=SSSMASS25_abbreviation,SO4SMASS_abbreviation=SO4SMASS_abbreviation,PM25_formula=PM25_formula)"
   ]
  },
  {
   "cell_type": "code",
   "execution_count": null,
   "id": "cf73f010",
   "metadata": {},
   "outputs": [],
   "source": [
    "npzfile=np.load('MERRA2_2018_PM25_Variables.npz') # Open .npz file\n",
    "sorted(npzfile.files)"
   ]
  },
  {
   "cell_type": "code",
   "execution_count": null,
   "id": "7016619b",
   "metadata": {},
   "outputs": [],
   "source": [
    "# DUSMASS25 + OCSMASS+ BCSMASS + SSSMASS25 + SO4SMASS* (132.14/96.06)\n",
    "#[PM2.5] = 1.375 × [SO4] + 1.8 × [OC] + [BC] + [DU2.5] +[SS2.5]\n",
    "# pm25 = npzfile['DUSMASS25_con']+npzfile['OCSMASS_con']+npzfile['BCSMASS_con']+npzfile['SSSMASS25_con']+npzfile['SO4SMASS_con']*(132.14/96.06)\n",
    "pm25 = (1.375*npzfile['SO4SMASS_con'])+ (1.8*npzfile['OCSMASS_con'])+npzfile['BCSMASS_con']+npzfile['DUSMASS25_con']+npzfile['SSSMASS25_con']"
   ]
  },
  {
   "cell_type": "code",
   "execution_count": null,
   "id": "23f08aea",
   "metadata": {},
   "outputs": [],
   "source": [
    "pm25 = (1.375*SO4SMASS)+ (1.8*OCSMASS)+BCSMASS_con+DUSMASS25_con+SSSMASS25_con"
   ]
  },
  {
   "cell_type": "code",
   "execution_count": null,
   "id": "ec4e9099",
   "metadata": {},
   "outputs": [],
   "source": [
    "pm25_normalized = pm25*100000000"
   ]
  },
  {
   "cell_type": "code",
   "execution_count": null,
   "id": "d5d48750",
   "metadata": {},
   "outputs": [],
   "source": [
    "pm25_normalized.shape"
   ]
  },
  {
   "cell_type": "code",
   "execution_count": null,
   "id": "185ea690",
   "metadata": {},
   "outputs": [],
   "source": [
    "dates = np.array(npzfile['dates'],dtype = 'str')\n",
    "lon = np.array(npzfile['lon'],dtype = 'int')\n",
    "lat = np.array(npzfile['lat'],dtype = 'int')"
   ]
  },
  {
   "cell_type": "code",
   "execution_count": null,
   "id": "fa503c8f",
   "metadata": {},
   "outputs": [],
   "source": [
    "a = np.arange(0,366)\n",
    "for i in a:\n",
    "    for j in dates:\n",
    "        plt.figure(figsize=(14,10))\n",
    "        ax = plt.axes(projection=ccrs.PlateCarree())\n",
    "        ax.set_extent([-180,179,-90,90],crs=ccrs.PlateCarree())\n",
    "        plt.contourf(lon, lat, pm25_normalized[i,:,:], 60,transform=ccrs.PlateCarree())\n",
    "        c_scheme=plt.pcolor(lon, lat, pm25_normalized[0,:,:],vmin = 1,vmax=100,cmap='gist_ncar')\n",
    "        ax.gridlines(draw_labels=False, dms=True, x_inline=False, y_inline=False)\n",
    "        cbar=plt.colorbar(c_scheme,orientation=\"horizontal\")\n",
    "        ax.coastlines()\n",
    "        gl = ax.gridlines(crs=ccrs.PlateCarree(), draw_labels=True,linewidth=2, color='black', alpha=0.5, linestyle='dotted')\n",
    "        gl.xlabels_top = True # False real\n",
    "        gl.xlabels_bottom = True # Not exixting\n",
    "        gl.ylabels_left = True\n",
    "        gl.ylabels_right = True\n",
    "        gl.xlines = True\n",
    "#         gl.xlocator = mticker.FixedLocator([40,45,50,55,60,65,70,75,80,85,90])\n",
    "#         gl.ylocator = mticker.FixedLocator([-15,-10,-5,0,5,10,15,20,25,30])\n",
    "        gl.xformatter = LONGITUDE_FORMATTER\n",
    "        gl.yformatter = LATITUDE_FORMATTER\n",
    "        gl.xlabel_style = {'size': 10,'color': 'red', 'weight': 'bold'}\n",
    "        gl.ylabel_style = {'size': 10,'color': 'red', 'weight': 'bold'}\n",
    "        cbar.set_label('PM 2.5', rotation=0,weight= 'bold', size = 10)\n",
    "        plt.savefig(j+'.jpg',dpi = 720)"
   ]
  },
  {
   "cell_type": "code",
   "execution_count": null,
   "id": "5975a666",
   "metadata": {},
   "outputs": [],
   "source": [
    "# Not a part of MERRA2 Data file creation\n",
    "import glob\n",
    "import os\n",
    "\n",
    "os.chdir(r'J:\\MERRA-2 Aerosol Diagnostics 1-Hourly\\2016')\n",
    "myFiles = glob.glob('*.nc4')\n",
    "# print(myFiles)"
   ]
  },
  {
   "cell_type": "code",
   "execution_count": null,
   "id": "8d2bb412",
   "metadata": {},
   "outputs": [],
   "source": [
    "a = np.arange(0,366)\n",
    "for i in a:\n",
    "    plt.figure(figsize=(14,10))\n",
    "    ax = plt.axes(projection=ccrs.PlateCarree())\n",
    "    ax.set_extent([-180,179,-90,90],crs=ccrs.PlateCarree())\n",
    "    plt.contourf(lon, lat, pm25_normalized[i,:,:], 60,transform=ccrs.PlateCarree())\n",
    "    c_scheme=plt.pcolor(lon, lat, pm25_normalized[i,:,:],vmin = 1,vmax=100,cmap='gist_ncar')\n",
    "    ax.gridlines(draw_labels=False, dms=True, x_inline=False, y_inline=False)\n",
    "    cbar=plt.colorbar(c_scheme,orientation=\"horizontal\")\n",
    "    ax.coastlines()\n",
    "    gl = ax.gridlines(crs=ccrs.PlateCarree(), draw_labels=True,linewidth=2, color='black', alpha=0.5, linestyle='dotted')\n",
    "    gl.xlabels_top = True # False real\n",
    "    gl.xlabels_bottom = True # Not exixting\n",
    "    gl.ylabels_left = True\n",
    "    gl.ylabels_right = True\n",
    "    gl.xlines = True\n",
    "    #gl.xlocator = mticker.FixedLocator([40,45,50,55,60,65,70,75,80,85,90])\n",
    "    #gl.ylocator = mticker.FixedLocator([-15,-10,-5,0,5,10,15,20,25,30])\n",
    "    gl.xformatter = LONGITUDE_FORMATTER\n",
    "    gl.yformatter = LATITUDE_FORMATTER\n",
    "    gl.xlabel_style = {'size': 10,'color': 'red', 'weight': 'bold'}\n",
    "    gl.ylabel_style = {'size': 10,'color': 'red', 'weight': 'bold'}\n",
    "    cbar.set_label('PM 2.5', rotation=0,weight= 'bold', size = 20)\n",
    "    plt.savefig(dates[i]+'.jpg',dpi = 720)"
   ]
  },
  {
   "cell_type": "markdown",
   "id": "7062a0cf",
   "metadata": {},
   "source": [
    "# MODIS AOD Data visualization"
   ]
  },
  {
   "cell_type": "code",
   "execution_count": null,
   "id": "4550e129",
   "metadata": {},
   "outputs": [],
   "source": [
    "\n",
    "# Python program to demonstrate\n",
    "# HDF5 file\n",
    " \n",
    "import os\n",
    "import matplotlib as mpl\n",
    "import matplotlib.pyplot as plt\n",
    "import numpy as np\n",
    "from pyhdf.SD import SD, SDC"
   ]
  },
  {
   "cell_type": "code",
   "execution_count": null,
   "id": "e602792c",
   "metadata": {},
   "outputs": [],
   "source": [
    "# Open file.\n",
    "path = r'D:\\Downloads\\MOD04_L2\\2018001'\n",
    "file_name = path + '\\MOD04_L2.A2018001.0000.061.2018003202444.hdf'\n",
    "\n",
    "file = SD(file_name, SDC.READ)\n",
    "\n",
    "print(file)"
   ]
  },
  {
   "cell_type": "code",
   "execution_count": null,
   "id": "cc4be623",
   "metadata": {},
   "outputs": [],
   "source": [
    "# Display all the datasets\n",
    "datasets_dic = file.datasets()\n",
    "\n",
    "for idx,sds in enumerate(datasets_dic.keys()):\n",
    "    print(idx,sds)"
   ]
  },
  {
   "cell_type": "code",
   "execution_count": null,
   "id": "e0fca15a",
   "metadata": {},
   "outputs": [],
   "source": [
    "lat_obj = file.select('Latitude') # select sds\n",
    "lon_obj = file.select('Longitude') # select sds \n",
    "lon_AOD_550_Dark_Target = file.select('AOD_550_Dark_Target_Deep_Blue_Combined')\n",
    "\n",
    "lat     = lat_obj.get() # get sds data\n",
    "lon     = lon_obj.get() # get sds data\n",
    "AOD_550 = lon_AOD_550_Dark_Target.get()\n"
   ]
  },
  {
   "cell_type": "code",
   "execution_count": null,
   "id": "fb2e157a",
   "metadata": {},
   "outputs": [],
   "source": [
    "AOD_550_good = np.where(AOD_550 == -9999, np.nan, AOD_550)"
   ]
  },
  {
   "cell_type": "code",
   "execution_count": null,
   "id": "7e15d450",
   "metadata": {},
   "outputs": [],
   "source": [
    "plt.contourf(lon, lat, AOD_550_good, 60,cmap = 'jet')"
   ]
  },
  {
   "cell_type": "code",
   "execution_count": null,
   "id": "ee32545e",
   "metadata": {},
   "outputs": [],
   "source": [
    "lat.max()"
   ]
  },
  {
   "cell_type": "code",
   "execution_count": null,
   "id": "3bf4566a",
   "metadata": {},
   "outputs": [],
   "source": []
  },
  {
   "cell_type": "code",
   "execution_count": null,
   "id": "5c422bb5",
   "metadata": {},
   "outputs": [],
   "source": []
  },
  {
   "cell_type": "code",
   "execution_count": null,
   "id": "8f014e8b",
   "metadata": {},
   "outputs": [],
   "source": []
  },
  {
   "cell_type": "code",
   "execution_count": null,
   "id": "cdf5fd3b",
   "metadata": {},
   "outputs": [],
   "source": [
    "dates"
   ]
  },
  {
   "cell_type": "code",
   "execution_count": null,
   "id": "07f66fab",
   "metadata": {},
   "outputs": [],
   "source": []
  },
  {
   "cell_type": "code",
   "execution_count": null,
   "id": "a72d0d05",
   "metadata": {},
   "outputs": [],
   "source": []
  }
 ],
 "metadata": {
  "kernelspec": {
   "display_name": "Python 3 (ipykernel)",
   "language": "python",
   "name": "python3"
  },
  "language_info": {
   "codemirror_mode": {
    "name": "ipython",
    "version": 3
   },
   "file_extension": ".py",
   "mimetype": "text/x-python",
   "name": "python",
   "nbconvert_exporter": "python",
   "pygments_lexer": "ipython3",
   "version": "3.9.7"
  },
  "varInspector": {
   "cols": {
    "lenName": 16,
    "lenType": 16,
    "lenVar": 40
   },
   "kernels_config": {
    "python": {
     "delete_cmd_postfix": "",
     "delete_cmd_prefix": "del ",
     "library": "var_list.py",
     "varRefreshCmd": "print(var_dic_list())"
    },
    "r": {
     "delete_cmd_postfix": ") ",
     "delete_cmd_prefix": "rm(",
     "library": "var_list.r",
     "varRefreshCmd": "cat(var_dic_list()) "
    }
   },
   "types_to_exclude": [
    "module",
    "function",
    "builtin_function_or_method",
    "instance",
    "_Feature"
   ],
   "window_display": false
  }
 },
 "nbformat": 4,
 "nbformat_minor": 5
}
